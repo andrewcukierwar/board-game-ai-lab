{
 "cells": [
  {
   "cell_type": "code",
   "execution_count": 2,
   "id": "5b0264e5-6b3f-449a-860d-e73f7fab3106",
   "metadata": {
    "scrolled": true
   },
   "outputs": [
    {
     "name": "stdout",
     "output_type": "stream",
     "text": [
      "–––––––––––––––––––––––––––––\n",
      "|   |   |   |   |   |   |   |\n",
      "–––––––––––––––––––––––––––––\n",
      "|   |   |   |   |   |   |   |\n",
      "–––––––––––––––––––––––––––––\n",
      "|   |   |   |   |   |   |   |\n",
      "–––––––––––––––––––––––––––––\n",
      "|   |   |   |   |   |   |   |\n",
      "–––––––––––––––––––––––––––––\n",
      "|   |   |   |   |   |   |   |\n",
      "–––––––––––––––––––––––––––––\n",
      "|   |   |   |   |   |   |   |\n",
      "–––––––––––––––––––––––––––––\n"
     ]
    },
    {
     "name": "stdin",
     "output_type": "stream",
     "text": [
      "Player 1, choose a column (0-6):  3\n"
     ]
    },
    {
     "name": "stdout",
     "output_type": "stream",
     "text": [
      "Human chooses column 3.\n",
      "–––––––––––––––––––––––––––––\n",
      "|   |   |   |   |   |   |   |\n",
      "–––––––––––––––––––––––––––––\n",
      "|   |   |   |   |   |   |   |\n",
      "–––––––––––––––––––––––––––––\n",
      "|   |   |   |   |   |   |   |\n",
      "–––––––––––––––––––––––––––––\n",
      "|   |   |   |   |   |   |   |\n",
      "–––––––––––––––––––––––––––––\n",
      "|   |   |   |   |   |   |   |\n",
      "–––––––––––––––––––––––––––––\n",
      "|   |   |   | X |   |   |   |\n",
      "–––––––––––––––––––––––––––––\n",
      "3 -10\n",
      "2 -10\n",
      "4 -10\n",
      "1 -10\n",
      "5 -10\n",
      "0 -10\n",
      "6 -10\n",
      "Negamax Agent 8 chooses column 3.\n",
      "–––––––––––––––––––––––––––––\n",
      "|   |   |   |   |   |   |   |\n",
      "–––––––––––––––––––––––––––––\n",
      "|   |   |   |   |   |   |   |\n",
      "–––––––––––––––––––––––––––––\n",
      "|   |   |   |   |   |   |   |\n",
      "–––––––––––––––––––––––––––––\n",
      "|   |   |   |   |   |   |   |\n",
      "–––––––––––––––––––––––––––––\n",
      "|   |   |   | O |   |   |   |\n",
      "–––––––––––––––––––––––––––––\n",
      "|   |   |   | X |   |   |   |\n",
      "–––––––––––––––––––––––––––––\n"
     ]
    },
    {
     "ename": "KeyboardInterrupt",
     "evalue": "Interrupted by user",
     "output_type": "error",
     "traceback": [
      "\u001b[0;31m---------------------------------------------------------------------------\u001b[0m",
      "\u001b[0;31mKeyboardInterrupt\u001b[0m                         Traceback (most recent call last)",
      "Cell \u001b[0;32mIn[2], line 12\u001b[0m\n\u001b[1;32m      9\u001b[0m negamax_agent \u001b[38;5;241m=\u001b[39m NegamaxAgent(\u001b[38;5;241m8\u001b[39m)\n\u001b[1;32m     11\u001b[0m connect4 \u001b[38;5;241m=\u001b[39m Connect4()\n\u001b[0;32m---> 12\u001b[0m connect4\u001b[38;5;241m.\u001b[39mbattle(human, negamax_agent)\n",
      "File \u001b[0;32m~/Documents/GitHub/board-game-ai-lab/Connect 4/connect4.py:77\u001b[0m, in \u001b[0;36mConnect4.battle\u001b[0;34m(self, agent1, agent2, output)\u001b[0m\n\u001b[1;32m     75\u001b[0m \u001b[38;5;66;03m#             try:\u001b[39;00m\n\u001b[1;32m     76\u001b[0m             \u001b[38;5;28;01mif\u001b[39;00m \u001b[38;5;28mself\u001b[39m\u001b[38;5;241m.\u001b[39mcurrent_player \u001b[38;5;241m==\u001b[39m \u001b[38;5;241m0\u001b[39m:\n\u001b[0;32m---> 77\u001b[0m                 column \u001b[38;5;241m=\u001b[39m agent1\u001b[38;5;241m.\u001b[39mchoose_move(\u001b[38;5;28mself\u001b[39m)\n\u001b[1;32m     78\u001b[0m                 \u001b[38;5;28;01mif\u001b[39;00m output:\n\u001b[1;32m     79\u001b[0m                     \u001b[38;5;28mprint\u001b[39m(\u001b[38;5;124mf\u001b[39m\u001b[38;5;124m\"\u001b[39m\u001b[38;5;132;01m{\u001b[39;00magent1\u001b[38;5;132;01m}\u001b[39;00m\u001b[38;5;124m chooses column \u001b[39m\u001b[38;5;132;01m{\u001b[39;00mcolumn\u001b[38;5;132;01m}\u001b[39;00m\u001b[38;5;124m.\u001b[39m\u001b[38;5;124m\"\u001b[39m)\n",
      "File \u001b[0;32m~/Documents/GitHub/board-game-ai-lab/Connect 4/agents/human.py:11\u001b[0m, in \u001b[0;36mHuman.choose_move\u001b[0;34m(self, game)\u001b[0m\n\u001b[1;32m      9\u001b[0m \u001b[38;5;28;01mwhile\u001b[39;00m \u001b[38;5;28;01mTrue\u001b[39;00m:\n\u001b[1;32m     10\u001b[0m     \u001b[38;5;28;01mtry\u001b[39;00m:\n\u001b[0;32m---> 11\u001b[0m         column \u001b[38;5;241m=\u001b[39m \u001b[38;5;28mint\u001b[39m(\u001b[38;5;28minput\u001b[39m(\u001b[38;5;124mf\u001b[39m\u001b[38;5;124m\"\u001b[39m\u001b[38;5;124mPlayer \u001b[39m\u001b[38;5;132;01m{\u001b[39;00mgame\u001b[38;5;241m.\u001b[39mcurrent_player\u001b[38;5;250m \u001b[39m\u001b[38;5;241m+\u001b[39m\u001b[38;5;250m \u001b[39m\u001b[38;5;241m1\u001b[39m\u001b[38;5;132;01m}\u001b[39;00m\u001b[38;5;124m, choose a column (0-6): \u001b[39m\u001b[38;5;124m\"\u001b[39m))\n\u001b[1;32m     12\u001b[0m         \u001b[38;5;28;01mif\u001b[39;00m \u001b[38;5;241m0\u001b[39m \u001b[38;5;241m<\u001b[39m\u001b[38;5;241m=\u001b[39m column \u001b[38;5;241m<\u001b[39m game\u001b[38;5;241m.\u001b[39mboard\u001b[38;5;241m.\u001b[39mwidth \u001b[38;5;129;01mand\u001b[39;00m game\u001b[38;5;241m.\u001b[39mis_valid_move(column):\n\u001b[1;32m     13\u001b[0m             \u001b[38;5;28;01mreturn\u001b[39;00m column\n",
      "File \u001b[0;32m~/anaconda3/lib/python3.12/site-packages/ipykernel/kernelbase.py:1282\u001b[0m, in \u001b[0;36mKernel.raw_input\u001b[0;34m(self, prompt)\u001b[0m\n\u001b[1;32m   1280\u001b[0m     msg \u001b[38;5;241m=\u001b[39m \u001b[38;5;124m\"\u001b[39m\u001b[38;5;124mraw_input was called, but this frontend does not support input requests.\u001b[39m\u001b[38;5;124m\"\u001b[39m\n\u001b[1;32m   1281\u001b[0m     \u001b[38;5;28;01mraise\u001b[39;00m StdinNotImplementedError(msg)\n\u001b[0;32m-> 1282\u001b[0m \u001b[38;5;28;01mreturn\u001b[39;00m \u001b[38;5;28mself\u001b[39m\u001b[38;5;241m.\u001b[39m_input_request(\n\u001b[1;32m   1283\u001b[0m     \u001b[38;5;28mstr\u001b[39m(prompt),\n\u001b[1;32m   1284\u001b[0m     \u001b[38;5;28mself\u001b[39m\u001b[38;5;241m.\u001b[39m_parent_ident[\u001b[38;5;124m\"\u001b[39m\u001b[38;5;124mshell\u001b[39m\u001b[38;5;124m\"\u001b[39m],\n\u001b[1;32m   1285\u001b[0m     \u001b[38;5;28mself\u001b[39m\u001b[38;5;241m.\u001b[39mget_parent(\u001b[38;5;124m\"\u001b[39m\u001b[38;5;124mshell\u001b[39m\u001b[38;5;124m\"\u001b[39m),\n\u001b[1;32m   1286\u001b[0m     password\u001b[38;5;241m=\u001b[39m\u001b[38;5;28;01mFalse\u001b[39;00m,\n\u001b[1;32m   1287\u001b[0m )\n",
      "File \u001b[0;32m~/anaconda3/lib/python3.12/site-packages/ipykernel/kernelbase.py:1325\u001b[0m, in \u001b[0;36mKernel._input_request\u001b[0;34m(self, prompt, ident, parent, password)\u001b[0m\n\u001b[1;32m   1322\u001b[0m \u001b[38;5;28;01mexcept\u001b[39;00m \u001b[38;5;167;01mKeyboardInterrupt\u001b[39;00m:\n\u001b[1;32m   1323\u001b[0m     \u001b[38;5;66;03m# re-raise KeyboardInterrupt, to truncate traceback\u001b[39;00m\n\u001b[1;32m   1324\u001b[0m     msg \u001b[38;5;241m=\u001b[39m \u001b[38;5;124m\"\u001b[39m\u001b[38;5;124mInterrupted by user\u001b[39m\u001b[38;5;124m\"\u001b[39m\n\u001b[0;32m-> 1325\u001b[0m     \u001b[38;5;28;01mraise\u001b[39;00m \u001b[38;5;167;01mKeyboardInterrupt\u001b[39;00m(msg) \u001b[38;5;28;01mfrom\u001b[39;00m \u001b[38;5;28;01mNone\u001b[39;00m\n\u001b[1;32m   1326\u001b[0m \u001b[38;5;28;01mexcept\u001b[39;00m \u001b[38;5;167;01mException\u001b[39;00m:\n\u001b[1;32m   1327\u001b[0m     \u001b[38;5;28mself\u001b[39m\u001b[38;5;241m.\u001b[39mlog\u001b[38;5;241m.\u001b[39mwarning(\u001b[38;5;124m\"\u001b[39m\u001b[38;5;124mInvalid Message:\u001b[39m\u001b[38;5;124m\"\u001b[39m, exc_info\u001b[38;5;241m=\u001b[39m\u001b[38;5;28;01mTrue\u001b[39;00m)\n",
      "\u001b[0;31mKeyboardInterrupt\u001b[0m: Interrupted by user"
     ]
    }
   ],
   "source": [
    "from connect4 import Connect4\n",
    "from agents.human import Human\n",
    "from agents.random_agent import RandomAgent\n",
    "from agents.negamax_agent import NegamaxAgent\n",
    "\n",
    "human = Human()\n",
    "\n",
    "random_agent = RandomAgent()\n",
    "negamax_agent = NegamaxAgent(8)\n",
    "\n",
    "connect4 = Connect4()\n",
    "connect4.battle(human, negamax_agent)"
   ]
  },
  {
   "cell_type": "code",
   "execution_count": 3,
   "id": "42cc8735-eea8-4317-94ea-95ff45a2196e",
   "metadata": {},
   "outputs": [
    {
     "data": {
      "text/plain": [
       "–––––––––––––––––––––––––––––\n",
       "|   |   |   |   |   |   |   |\n",
       "–––––––––––––––––––––––––––––\n",
       "|   |   |   |   |   |   |   |\n",
       "–––––––––––––––––––––––––––––\n",
       "|   |   |   |   |   |   |   |\n",
       "–––––––––––––––––––––––––––––\n",
       "|   |   |   |   |   |   |   |\n",
       "–––––––––––––––––––––––––––––\n",
       "|   |   |   | O |   |   |   |\n",
       "–––––––––––––––––––––––––––––\n",
       "|   |   |   | X |   |   |   |\n",
       "–––––––––––––––––––––––––––––"
      ]
     },
     "execution_count": 3,
     "metadata": {},
     "output_type": "execute_result"
    }
   ],
   "source": [
    "board = connect4.board\n",
    "board"
   ]
  },
  {
   "cell_type": "code",
   "execution_count": 5,
   "id": "91ec2e6a-34ee-4f70-87b1-5288cad9e194",
   "metadata": {
    "scrolled": true
   },
   "outputs": [
    {
     "data": {
      "text/plain": [
       "[[(0, 0), (0, 1), (0, 2), (0, 3)],\n",
       " [(0, 1), (0, 2), (0, 3), (0, 4)],\n",
       " [(0, 2), (0, 3), (0, 4), (0, 5)],\n",
       " [(0, 3), (0, 4), (0, 5), (0, 6)],\n",
       " [(1, 0), (1, 1), (1, 2), (1, 3)],\n",
       " [(1, 1), (1, 2), (1, 3), (1, 4)],\n",
       " [(1, 2), (1, 3), (1, 4), (1, 5)],\n",
       " [(1, 3), (1, 4), (1, 5), (1, 6)],\n",
       " [(2, 0), (2, 1), (2, 2), (2, 3)],\n",
       " [(2, 1), (2, 2), (2, 3), (2, 4)],\n",
       " [(2, 2), (2, 3), (2, 4), (2, 5)],\n",
       " [(2, 3), (2, 4), (2, 5), (2, 6)],\n",
       " [(3, 0), (3, 1), (3, 2), (3, 3)],\n",
       " [(3, 1), (3, 2), (3, 3), (3, 4)],\n",
       " [(3, 2), (3, 3), (3, 4), (3, 5)],\n",
       " [(3, 3), (3, 4), (3, 5), (3, 6)],\n",
       " [(4, 0), (4, 1), (4, 2), (4, 3)],\n",
       " [(4, 1), (4, 2), (4, 3), (4, 4)],\n",
       " [(4, 2), (4, 3), (4, 4), (4, 5)],\n",
       " [(4, 3), (4, 4), (4, 5), (4, 6)],\n",
       " [(5, 0), (5, 1), (5, 2), (5, 3)],\n",
       " [(5, 1), (5, 2), (5, 3), (5, 4)],\n",
       " [(5, 2), (5, 3), (5, 4), (5, 5)],\n",
       " [(5, 3), (5, 4), (5, 5), (5, 6)],\n",
       " [(0, 0), (1, 0), (2, 0), (3, 0)],\n",
       " [(0, 1), (1, 1), (2, 1), (3, 1)],\n",
       " [(0, 2), (1, 2), (2, 2), (3, 2)],\n",
       " [(0, 3), (1, 3), (2, 3), (3, 3)],\n",
       " [(0, 4), (1, 4), (2, 4), (3, 4)],\n",
       " [(0, 5), (1, 5), (2, 5), (3, 5)],\n",
       " [(0, 6), (1, 6), (2, 6), (3, 6)],\n",
       " [(1, 0), (2, 0), (3, 0), (4, 0)],\n",
       " [(1, 1), (2, 1), (3, 1), (4, 1)],\n",
       " [(1, 2), (2, 2), (3, 2), (4, 2)],\n",
       " [(1, 3), (2, 3), (3, 3), (4, 3)],\n",
       " [(1, 4), (2, 4), (3, 4), (4, 4)],\n",
       " [(1, 5), (2, 5), (3, 5), (4, 5)],\n",
       " [(1, 6), (2, 6), (3, 6), (4, 6)],\n",
       " [(2, 0), (3, 0), (4, 0), (5, 0)],\n",
       " [(2, 1), (3, 1), (4, 1), (5, 1)],\n",
       " [(2, 2), (3, 2), (4, 2), (5, 2)],\n",
       " [(2, 3), (3, 3), (4, 3), (5, 3)],\n",
       " [(2, 4), (3, 4), (4, 4), (5, 4)],\n",
       " [(2, 5), (3, 5), (4, 5), (5, 5)],\n",
       " [(2, 6), (3, 6), (4, 6), (5, 6)],\n",
       " [(0, 0), (1, 1), (2, 2), (3, 3)],\n",
       " [(0, 1), (1, 2), (2, 3), (3, 4)],\n",
       " [(0, 2), (1, 3), (2, 4), (3, 5)],\n",
       " [(0, 3), (1, 4), (2, 5), (3, 6)],\n",
       " [(1, 0), (2, 1), (3, 2), (4, 3)],\n",
       " [(1, 1), (2, 2), (3, 3), (4, 4)],\n",
       " [(1, 2), (2, 3), (3, 4), (4, 5)],\n",
       " [(1, 3), (2, 4), (3, 5), (4, 6)],\n",
       " [(2, 0), (3, 1), (4, 2), (5, 3)],\n",
       " [(2, 1), (3, 2), (4, 3), (5, 4)],\n",
       " [(2, 2), (3, 3), (4, 4), (5, 5)],\n",
       " [(2, 3), (3, 4), (4, 5), (5, 6)],\n",
       " [(0, 3), (1, 2), (2, 1), (3, 0)],\n",
       " [(0, 4), (1, 3), (2, 2), (3, 1)],\n",
       " [(0, 5), (1, 4), (2, 3), (3, 2)],\n",
       " [(0, 6), (1, 5), (2, 4), (3, 3)],\n",
       " [(1, 3), (2, 2), (3, 1), (4, 0)],\n",
       " [(1, 4), (2, 3), (3, 2), (4, 1)],\n",
       " [(1, 5), (2, 4), (3, 3), (4, 2)],\n",
       " [(1, 6), (2, 5), (3, 4), (4, 3)],\n",
       " [(2, 3), (3, 2), (4, 1), (5, 0)],\n",
       " [(2, 4), (3, 3), (4, 2), (5, 1)],\n",
       " [(2, 5), (3, 4), (4, 3), (5, 2)],\n",
       " [(2, 6), (3, 5), (4, 4), (5, 3)]]"
      ]
     },
     "execution_count": 5,
     "metadata": {},
     "output_type": "execute_result"
    }
   ],
   "source": [
    "window_positions = negamax_agent.window_positions\n",
    "window_positions"
   ]
  },
  {
   "cell_type": "code",
   "execution_count": 13,
   "id": "76230d1a-a1dd-4e5b-852e-1f7b9c38ccc9",
   "metadata": {},
   "outputs": [],
   "source": [
    "import time\n",
    "import numpy as np"
   ]
  },
  {
   "cell_type": "code",
   "execution_count": 119,
   "id": "6075943c-f2f3-4374-ac95-803814eec73e",
   "metadata": {},
   "outputs": [
    {
     "data": {
      "text/plain": [
       "0.00016091156005859376"
      ]
     },
     "execution_count": 119,
     "metadata": {},
     "output_type": "execute_result"
    }
   ],
   "source": [
    "def function():\n",
    "    weights = {1:1, 2:3, 3:9, 4:81}\n",
    "    pieces = {'X':1, 'O':-1}\n",
    "    evaluation = 0\n",
    "    \n",
    "    for window in window_positions:\n",
    "        window_values = [board[row][col] for row, col in window]\n",
    "        for piece, val in pieces.items():\n",
    "            for length, weight in weights.items():\n",
    "                # if (window_values == piece).sum() == length and (window_values == ' ').sum() == (4 - length):\n",
    "                if window_values.count(piece) == length and window_values.count(\" \") == (4 - length):\n",
    "                    evaluation += weight * val\n",
    "    # evaluation *= color\n",
    "\n",
    "run_times = []\n",
    "for _ in range(1000):\n",
    "    start = time.time()\n",
    "    function()\n",
    "    end = time.time()\n",
    "    run_time = end - start\n",
    "    run_times.append(run_time)\n",
    "average_run_time = sum(run_times) / len(run_times)\n",
    "average_run_time"
   ]
  },
  {
   "cell_type": "code",
   "execution_count": null,
   "id": "8dce7481-5711-45b7-8935-42e650c69312",
   "metadata": {},
   "outputs": [],
   "source": []
  },
  {
   "cell_type": "code",
   "execution_count": 123,
   "id": "04970a66-cf83-4e37-9ee7-a8ce25e59979",
   "metadata": {},
   "outputs": [
    {
     "data": {
      "text/plain": [
       "8.091330528259277e-05"
      ]
     },
     "execution_count": 123,
     "metadata": {},
     "output_type": "execute_result"
    }
   ],
   "source": [
    "def function():\n",
    "    weights = {1:1, 2:3, 3:9, 4:81}\n",
    "    evaluation = 0\n",
    "    for window in window_positions:\n",
    "        window_values = [board[row][col] for row, col in window]\n",
    "        x_count = window_values.count('X')\n",
    "        o_count = window_values.count('O')\n",
    "        empty_count = window_values.count(' ')\n",
    "        for length, weight in weights.items():\n",
    "            if x_count == length and empty_count == (4 - length):\n",
    "                evaluation += weight\n",
    "            if o_count == length and empty_count == (4 - length):\n",
    "                evaluation -= weight\n",
    "\n",
    "run_times = []\n",
    "for _ in range(1000):\n",
    "    start = time.time()\n",
    "    function()\n",
    "    end = time.time()\n",
    "    run_time = end - start\n",
    "    run_times.append(run_time)\n",
    "average_run_time = sum(run_times) / len(run_times)\n",
    "average_run_time"
   ]
  },
  {
   "cell_type": "code",
   "execution_count": null,
   "id": "1b7d0e82-51df-4f05-9898-9e5ed62877de",
   "metadata": {},
   "outputs": [],
   "source": []
  },
  {
   "cell_type": "code",
   "execution_count": 67,
   "id": "04a06ad4-5032-4125-8727-f08ecd234d51",
   "metadata": {},
   "outputs": [
    {
     "data": {
      "text/plain": [
       "3.6894256504966325"
      ]
     },
     "execution_count": 67,
     "metadata": {},
     "output_type": "execute_result"
    }
   ],
   "source": [
    "0.00018765711784362793 / average_run_time"
   ]
  },
  {
   "cell_type": "code",
   "execution_count": null,
   "id": "469aac1d-bc6c-44ab-868f-b298d9103c1f",
   "metadata": {},
   "outputs": [],
   "source": []
  },
  {
   "cell_type": "code",
   "execution_count": null,
   "id": "f2fbd361-48bf-4b9b-8d91-779a14c737ce",
   "metadata": {},
   "outputs": [],
   "source": []
  },
  {
   "cell_type": "code",
   "execution_count": 60,
   "id": "37879d05-9237-4b04-a4ab-aabec9351f09",
   "metadata": {},
   "outputs": [
    {
     "name": "stdout",
     "output_type": "stream",
     "text": [
      "[' ', ' ', ' ', 'X']\n",
      "{'X': 1, 'O': 0, ' ': 3}\n",
      "1 1\n",
      "- X 1\n",
      "- O -1\n",
      "2 3\n",
      "- X 1\n",
      "- O -1\n",
      "3 9\n",
      "- X 1\n",
      "- O -1\n",
      "4 81\n",
      "- X 1\n",
      "- O -1\n"
     ]
    }
   ],
   "source": [
    "weights = {1:1, 2:3, 3:9, 4:81}\n",
    "pieces = {'X':1, 'O':-1}\n",
    "evaluation = 0\n",
    "\n",
    "for window in window_positions:\n",
    "    window_values = [board[row][col] for row, col in window]\n",
    "    if 'X' in window_values:\n",
    "        print(window_values)\n",
    "        piece_counts = {\n",
    "            'X': window_values.count('X'),\n",
    "            'O': window_values.count('O'),\n",
    "            ' ': window_values.count(' ')\n",
    "        }\n",
    "        print(piece_counts)\n",
    "    \n",
    "        for length, weight in weights.items():\n",
    "            print(length, weight)\n",
    "            for piece, val in pieces.items():\n",
    "                print('-', piece, val)\n",
    "                # if (window_values == piece).sum() == length and (window_values == ' ').sum() == (4 - length):\n",
    "                if piece_counts[piece] == length and piece_counts[' '] == (4 - length):\n",
    "                    evaluation += weight * val\n",
    "                    \n",
    "        break"
   ]
  },
  {
   "cell_type": "code",
   "execution_count": null,
   "id": "2933117a-a6b8-4c59-ba8b-692b39fcb91e",
   "metadata": {},
   "outputs": [],
   "source": []
  },
  {
   "cell_type": "code",
   "execution_count": null,
   "id": "56883cf0-6074-4221-8da9-b549db7003fa",
   "metadata": {},
   "outputs": [],
   "source": []
  },
  {
   "cell_type": "code",
   "execution_count": null,
   "id": "992b9df7-d2a3-4a39-a7d0-13c33e89ef1b",
   "metadata": {},
   "outputs": [],
   "source": []
  },
  {
   "cell_type": "code",
   "execution_count": null,
   "id": "0d6b9b45-6802-4d1f-86f3-b026f5057d66",
   "metadata": {},
   "outputs": [],
   "source": []
  },
  {
   "cell_type": "code",
   "execution_count": 34,
   "id": "a4cc7dcc-9ac3-4fb7-a97b-fabe1bfa94ff",
   "metadata": {},
   "outputs": [
    {
     "ename": "AttributeError",
     "evalue": "'bool' object has no attribute 'sum'",
     "output_type": "error",
     "traceback": [
      "\u001b[0;31m---------------------------------------------------------------------------\u001b[0m",
      "\u001b[0;31mAttributeError\u001b[0m                            Traceback (most recent call last)",
      "Cell \u001b[0;32mIn[34], line 10\u001b[0m\n\u001b[1;32m      8\u001b[0m     \u001b[38;5;28;01mfor\u001b[39;00m length, weight \u001b[38;5;129;01min\u001b[39;00m weights\u001b[38;5;241m.\u001b[39mitems():\n\u001b[1;32m      9\u001b[0m         \u001b[38;5;28;01mfor\u001b[39;00m piece, val \u001b[38;5;129;01min\u001b[39;00m pieces\u001b[38;5;241m.\u001b[39mitems():\n\u001b[0;32m---> 10\u001b[0m             \u001b[38;5;28;01mif\u001b[39;00m (window_values \u001b[38;5;241m==\u001b[39m piece)\u001b[38;5;241m.\u001b[39msum() \u001b[38;5;241m==\u001b[39m length \u001b[38;5;129;01mand\u001b[39;00m (window_values \u001b[38;5;241m==\u001b[39m \u001b[38;5;124m'\u001b[39m\u001b[38;5;124m \u001b[39m\u001b[38;5;124m'\u001b[39m)\u001b[38;5;241m.\u001b[39msum() \u001b[38;5;241m==\u001b[39m (\u001b[38;5;241m4\u001b[39m \u001b[38;5;241m-\u001b[39m length):\n\u001b[1;32m     11\u001b[0m                 evaluation \u001b[38;5;241m+\u001b[39m\u001b[38;5;241m=\u001b[39m weight \u001b[38;5;241m*\u001b[39m val\n\u001b[1;32m     12\u001b[0m \u001b[38;5;66;03m# evaluation *= color\u001b[39;00m\n",
      "\u001b[0;31mAttributeError\u001b[0m: 'bool' object has no attribute 'sum'"
     ]
    }
   ],
   "source": [
    "start = time.time()\n",
    "weights = {1:1, 2:3, 3:9, 4:81}\n",
    "pieces = {'X':1, 'O':-1}\n",
    "evaluation = 0\n",
    "\n",
    "for window in window_positions:\n",
    "    window_values = [board[row][col] for row, col in window]\n",
    "    for length, weight in weights.items():\n",
    "        for piece, val in pieces.items():\n",
    "            if (window_values == piece).sum() == length and (window_values == ' ').sum() == (4 - length):\n",
    "                evaluation += weight * val\n",
    "# evaluation *= color\n",
    "end = time.time()\n",
    "print(end-start)"
   ]
  },
  {
   "cell_type": "code",
   "execution_count": 14,
   "id": "cbbb2bbb-d6e5-4450-91a9-f003c6baa375",
   "metadata": {},
   "outputs": [
    {
     "data": {
      "text/plain": [
       "array([[' ', ' ', ' ', ' ', ' ', ' ', ' '],\n",
       "       [' ', ' ', ' ', ' ', ' ', ' ', ' '],\n",
       "       [' ', ' ', ' ', ' ', ' ', ' ', ' '],\n",
       "       [' ', ' ', ' ', ' ', ' ', ' ', ' '],\n",
       "       [' ', ' ', ' ', 'O', ' ', ' ', ' '],\n",
       "       [' ', ' ', ' ', 'X', ' ', ' ', ' ']], dtype='<U1')"
      ]
     },
     "execution_count": 14,
     "metadata": {},
     "output_type": "execute_result"
    }
   ],
   "source": [
    "board_np = np.array(board)\n",
    "board_np"
   ]
  },
  {
   "cell_type": "code",
   "execution_count": 25,
   "id": "6de08e67-5135-4102-930c-f518ced85c31",
   "metadata": {},
   "outputs": [
    {
     "name": "stdout",
     "output_type": "stream",
     "text": [
      "[' ', ' ', ' ', ' ']\n",
      "[' ', ' ', ' ', ' ']\n",
      "[' ', ' ', ' ', ' ']\n",
      "[' ', ' ', ' ', ' ']\n",
      "[' ', ' ', ' ', ' ']\n",
      "[' ', ' ', ' ', ' ']\n",
      "[' ', ' ', ' ', ' ']\n",
      "[' ', ' ', ' ', ' ']\n",
      "[' ', ' ', ' ', ' ']\n",
      "[' ', ' ', ' ', ' ']\n",
      "[' ', ' ', ' ', ' ']\n",
      "[' ', ' ', ' ', ' ']\n",
      "[' ', ' ', ' ', ' ']\n",
      "[' ', ' ', ' ', ' ']\n",
      "[' ', ' ', ' ', ' ']\n",
      "[' ', ' ', ' ', ' ']\n",
      "[' ', ' ', ' ', 'O']\n",
      "[' ', ' ', 'O', ' ']\n",
      "[' ', 'O', ' ', ' ']\n",
      "['O', ' ', ' ', ' ']\n",
      "[' ', ' ', ' ', 'X']\n",
      "[' ', ' ', 'X', ' ']\n",
      "[' ', 'X', ' ', ' ']\n",
      "['X', ' ', ' ', ' ']\n",
      "[' ', ' ', ' ', ' ']\n",
      "[' ', ' ', ' ', ' ']\n",
      "[' ', ' ', ' ', ' ']\n",
      "[' ', ' ', ' ', ' ']\n",
      "[' ', ' ', ' ', ' ']\n",
      "[' ', ' ', ' ', ' ']\n",
      "[' ', ' ', ' ', ' ']\n",
      "[' ', ' ', ' ', ' ']\n",
      "[' ', ' ', ' ', ' ']\n",
      "[' ', ' ', ' ', ' ']\n",
      "[' ', ' ', ' ', 'O']\n",
      "[' ', ' ', ' ', ' ']\n",
      "[' ', ' ', ' ', ' ']\n",
      "[' ', ' ', ' ', ' ']\n",
      "[' ', ' ', ' ', ' ']\n",
      "[' ', ' ', ' ', ' ']\n",
      "[' ', ' ', ' ', ' ']\n",
      "[' ', ' ', 'O', 'X']\n",
      "[' ', ' ', ' ', ' ']\n",
      "[' ', ' ', ' ', ' ']\n",
      "[' ', ' ', ' ', ' ']\n",
      "[' ', ' ', ' ', ' ']\n",
      "[' ', ' ', ' ', ' ']\n",
      "[' ', ' ', ' ', ' ']\n",
      "[' ', ' ', ' ', ' ']\n",
      "[' ', ' ', ' ', 'O']\n",
      "[' ', ' ', ' ', ' ']\n",
      "[' ', ' ', ' ', ' ']\n",
      "[' ', ' ', ' ', ' ']\n",
      "[' ', ' ', ' ', 'X']\n",
      "[' ', ' ', 'O', ' ']\n",
      "[' ', ' ', ' ', ' ']\n",
      "[' ', ' ', ' ', ' ']\n",
      "[' ', ' ', ' ', ' ']\n",
      "[' ', ' ', ' ', ' ']\n",
      "[' ', ' ', ' ', ' ']\n",
      "[' ', ' ', ' ', ' ']\n",
      "[' ', ' ', ' ', ' ']\n",
      "[' ', ' ', ' ', ' ']\n",
      "[' ', ' ', ' ', ' ']\n",
      "[' ', ' ', ' ', 'O']\n",
      "[' ', ' ', ' ', ' ']\n",
      "[' ', ' ', ' ', ' ']\n",
      "[' ', ' ', 'O', ' ']\n",
      "[' ', ' ', ' ', 'X']\n"
     ]
    }
   ],
   "source": [
    "for window in window_positions:\n",
    "    window_values = [board[row][col] for row, col in window]\n",
    "    print(window_values)"
   ]
  },
  {
   "cell_type": "code",
   "execution_count": null,
   "id": "8ea5af96-a717-43b1-acc3-35ad65cf0964",
   "metadata": {},
   "outputs": [],
   "source": []
  },
  {
   "cell_type": "code",
   "execution_count": 28,
   "id": "1025c5dd-099f-442b-9048-aaeabcf9f01a",
   "metadata": {},
   "outputs": [
    {
     "name": "stdout",
     "output_type": "stream",
     "text": [
      "[(0, 0), (0, 1), (0, 2), (0, 3)]\n",
      "[' ' ' ' ' ' ' ']\n"
     ]
    }
   ],
   "source": [
    "for window in window_positions:\n",
    "    print(window)\n",
    "    window_values = board_np[tuple(zip(*window))]\n",
    "    print(window_values)\n",
    "    break\n",
    "    # print(window_values)"
   ]
  },
  {
   "cell_type": "code",
   "execution_count": null,
   "id": "419fb04a-2ec9-4613-b5a8-ab106463a86f",
   "metadata": {},
   "outputs": [],
   "source": []
  },
  {
   "cell_type": "code",
   "execution_count": 22,
   "id": "53562f0c-f51a-4c27-9d05-aa00a7a5f1ff",
   "metadata": {},
   "outputs": [
    {
     "name": "stdout",
     "output_type": "stream",
     "text": [
      "0.0014274120330810547\n"
     ]
    }
   ],
   "source": [
    "start = time.time()\n",
    "for window in window_positions:\n",
    "    window_values = board_np[tuple(zip(*window))]\n",
    "end = time.time()\n",
    "print(end-start)"
   ]
  },
  {
   "cell_type": "code",
   "execution_count": null,
   "id": "c3877bde-8272-4896-9a02-c19cee29b0ea",
   "metadata": {},
   "outputs": [],
   "source": []
  }
 ],
 "metadata": {
  "kernelspec": {
   "display_name": "Python 3 (ipykernel)",
   "language": "python",
   "name": "python3"
  },
  "language_info": {
   "codemirror_mode": {
    "name": "ipython",
    "version": 3
   },
   "file_extension": ".py",
   "mimetype": "text/x-python",
   "name": "python",
   "nbconvert_exporter": "python",
   "pygments_lexer": "ipython3",
   "version": "3.12.3"
  }
 },
 "nbformat": 4,
 "nbformat_minor": 5
}
