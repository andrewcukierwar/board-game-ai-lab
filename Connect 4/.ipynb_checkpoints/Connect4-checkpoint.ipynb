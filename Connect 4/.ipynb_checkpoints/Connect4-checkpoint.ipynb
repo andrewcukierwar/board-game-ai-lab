{
 "cells": [
  {
   "cell_type": "code",
   "execution_count": 1,
   "id": "5b0264e5-6b3f-449a-860d-e73f7fab3106",
   "metadata": {},
   "outputs": [
    {
     "name": "stdout",
     "output_type": "stream",
     "text": [
      "–––––––––––––––––––––––––––––\n",
      "|   |   |   |   |   |   |   |\n",
      "–––––––––––––––––––––––––––––\n",
      "|   |   |   |   |   |   |   |\n",
      "–––––––––––––––––––––––––––––\n",
      "|   |   |   |   |   |   |   |\n",
      "–––––––––––––––––––––––––––––\n",
      "|   |   |   |   |   |   |   |\n",
      "–––––––––––––––––––––––––––––\n",
      "|   |   |   |   |   |   |   |\n",
      "–––––––––––––––––––––––––––––\n",
      "|   |   |   |   |   |   |   |\n",
      "–––––––––––––––––––––––––––––\n"
     ]
    },
    {
     "name": "stdin",
     "output_type": "stream",
     "text": [
      "Player 1, choose a column (0-6):  3\n"
     ]
    },
    {
     "name": "stdout",
     "output_type": "stream",
     "text": [
      "Human chooses column 3.\n",
      "–––––––––––––––––––––––––––––\n",
      "|   |   |   |   |   |   |   |\n",
      "–––––––––––––––––––––––––––––\n",
      "|   |   |   |   |   |   |   |\n",
      "–––––––––––––––––––––––––––––\n",
      "|   |   |   |   |   |   |   |\n",
      "–––––––––––––––––––––––––––––\n",
      "|   |   |   |   |   |   |   |\n",
      "–––––––––––––––––––––––––––––\n",
      "|   |   |   |   |   |   |   |\n",
      "–––––––––––––––––––––––––––––\n",
      "|   |   |   | X |   |   |   |\n",
      "–––––––––––––––––––––––––––––\n",
      "3 -10\n",
      "2 -10\n",
      "4 -10\n",
      "1 -10\n",
      "5 -10\n",
      "0 -10\n",
      "6 -10\n",
      "Negamax Agent 8 chooses column 3.\n",
      "–––––––––––––––––––––––––––––\n",
      "|   |   |   |   |   |   |   |\n",
      "–––––––––––––––––––––––––––––\n",
      "|   |   |   |   |   |   |   |\n",
      "–––––––––––––––––––––––––––––\n",
      "|   |   |   |   |   |   |   |\n",
      "–––––––––––––––––––––––––––––\n",
      "|   |   |   |   |   |   |   |\n",
      "–––––––––––––––––––––––––––––\n",
      "|   |   |   | O |   |   |   |\n",
      "–––––––––––––––––––––––––––––\n",
      "|   |   |   | X |   |   |   |\n",
      "–––––––––––––––––––––––––––––\n"
     ]
    },
    {
     "name": "stdin",
     "output_type": "stream",
     "text": [
      "Player 1, choose a column (0-6):  3\n"
     ]
    },
    {
     "name": "stdout",
     "output_type": "stream",
     "text": [
      "Human chooses column 3.\n",
      "–––––––––––––––––––––––––––––\n",
      "|   |   |   |   |   |   |   |\n",
      "–––––––––––––––––––––––––––––\n",
      "|   |   |   |   |   |   |   |\n",
      "–––––––––––––––––––––––––––––\n",
      "|   |   |   |   |   |   |   |\n",
      "–––––––––––––––––––––––––––––\n",
      "|   |   |   | X |   |   |   |\n",
      "–––––––––––––––––––––––––––––\n",
      "|   |   |   | O |   |   |   |\n",
      "–––––––––––––––––––––––––––––\n",
      "|   |   |   | X |   |   |   |\n",
      "–––––––––––––––––––––––––––––\n",
      "3 -11\n",
      "2 -15\n",
      "4 -11\n",
      "1 -11\n",
      "5 -12\n",
      "0 -11\n",
      "6 -15\n",
      "Negamax Agent 8 chooses column 3.\n",
      "–––––––––––––––––––––––––––––\n",
      "|   |   |   |   |   |   |   |\n",
      "–––––––––––––––––––––––––––––\n",
      "|   |   |   |   |   |   |   |\n",
      "–––––––––––––––––––––––––––––\n",
      "|   |   |   | O |   |   |   |\n",
      "–––––––––––––––––––––––––––––\n",
      "|   |   |   | X |   |   |   |\n",
      "–––––––––––––––––––––––––––––\n",
      "|   |   |   | O |   |   |   |\n",
      "–––––––––––––––––––––––––––––\n",
      "|   |   |   | X |   |   |   |\n",
      "–––––––––––––––––––––––––––––\n"
     ]
    },
    {
     "name": "stdin",
     "output_type": "stream",
     "text": [
      "Player 1, choose a column (0-6):  4\n"
     ]
    },
    {
     "name": "stdout",
     "output_type": "stream",
     "text": [
      "Human chooses column 4.\n",
      "–––––––––––––––––––––––––––––\n",
      "|   |   |   |   |   |   |   |\n",
      "–––––––––––––––––––––––––––––\n",
      "|   |   |   |   |   |   |   |\n",
      "–––––––––––––––––––––––––––––\n",
      "|   |   |   | O |   |   |   |\n",
      "–––––––––––––––––––––––––––––\n",
      "|   |   |   | X |   |   |   |\n",
      "–––––––––––––––––––––––––––––\n",
      "|   |   |   | O |   |   |   |\n",
      "–––––––––––––––––––––––––––––\n",
      "|   |   |   | X | X |   |   |\n",
      "–––––––––––––––––––––––––––––\n",
      "3 -81\n"
     ]
    },
    {
     "name": "stderr",
     "output_type": "stream",
     "text": [
      "\n",
      "KeyboardInterrupt\n",
      "\n"
     ]
    }
   ],
   "source": [
    "from connect4 import Connect4\n",
    "from agents.human import Human\n",
    "from agents.random_agent import RandomAgent\n",
    "from agents.negamax_agent import NegamaxAgent\n",
    "\n",
    "human = Human()\n",
    "random_agent = RandomAgent()\n",
    "negamax_agent = NegamaxAgent(8)\n",
    "\n",
    "connect4 = Connect4()\n",
    "connect4.battle(human, negamax_agent)"
   ]
  },
  {
   "cell_type": "code",
   "execution_count": null,
   "id": "42cc8735-eea8-4317-94ea-95ff45a2196e",
   "metadata": {},
   "outputs": [],
   "source": []
  }
 ],
 "metadata": {
  "kernelspec": {
   "display_name": "Python 3 (ipykernel)",
   "language": "python",
   "name": "python3"
  },
  "language_info": {
   "codemirror_mode": {
    "name": "ipython",
    "version": 3
   },
   "file_extension": ".py",
   "mimetype": "text/x-python",
   "name": "python",
   "nbconvert_exporter": "python",
   "pygments_lexer": "ipython3",
   "version": "3.12.3"
  }
 },
 "nbformat": 4,
 "nbformat_minor": 5
}
