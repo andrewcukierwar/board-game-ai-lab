{
 "cells": [
  {
   "cell_type": "code",
   "execution_count": 1,
   "id": "500bd6f8",
   "metadata": {},
   "outputs": [],
   "source": [
    "from connect4 import Connect4\n",
    "from agents.human import Human\n",
    "from agents.random_agent import RandomAgent\n",
    "from agents.negamax_agent import NegamaxAgent"
   ]
  },
  {
   "cell_type": "code",
   "execution_count": 2,
   "id": "7c80963b",
   "metadata": {},
   "outputs": [],
   "source": [
    "human = Human()\n",
    "random_agent = RandomAgent()\n",
    "negamax_agent = NegamaxAgent(6)"
   ]
  },
  {
   "cell_type": "code",
   "execution_count": 4,
   "id": "010f9a5b",
   "metadata": {},
   "outputs": [
    {
     "name": "stdout",
     "output_type": "stream",
     "text": [
      "–––––––––––––––––––––––––––––\n",
      "|   |   |   |   |   |   |   |\n",
      "–––––––––––––––––––––––––––––\n",
      "|   |   |   |   |   |   |   |\n",
      "–––––––––––––––––––––––––––––\n",
      "|   |   |   |   |   |   |   |\n",
      "–––––––––––––––––––––––––––––\n",
      "|   |   |   |   |   |   |   |\n",
      "–––––––––––––––––––––––––––––\n",
      "|   |   |   |   |   |   |   |\n",
      "–––––––––––––––––––––––––––––\n",
      "|   |   |   |   |   |   |   |\n",
      "–––––––––––––––––––––––––––––\n"
     ]
    },
    {
     "name": "stdin",
     "output_type": "stream",
     "text": [
      "Player 1, choose a column (0-6):  -1\n"
     ]
    },
    {
     "name": "stdout",
     "output_type": "stream",
     "text": [
      "Human chooses column -1.\n",
      "Invalid move. Try again.\n",
      "–––––––––––––––––––––––––––––\n",
      "|   |   |   |   |   |   |   |\n",
      "–––––––––––––––––––––––––––––\n",
      "|   |   |   |   |   |   |   |\n",
      "–––––––––––––––––––––––––––––\n",
      "|   |   |   |   |   |   |   |\n",
      "–––––––––––––––––––––––––––––\n",
      "|   |   |   |   |   |   |   |\n",
      "–––––––––––––––––––––––––––––\n",
      "|   |   |   |   |   |   |   |\n",
      "–––––––––––––––––––––––––––––\n",
      "|   |   |   |   |   |   |   |\n",
      "–––––––––––––––––––––––––––––\n"
     ]
    },
    {
     "name": "stdin",
     "output_type": "stream",
     "text": [
      "Player 1, choose a column (0-6):  7\n"
     ]
    },
    {
     "name": "stdout",
     "output_type": "stream",
     "text": [
      "Human chooses column 7.\n",
      "Invalid move. Try again.\n",
      "–––––––––––––––––––––––––––––\n",
      "|   |   |   |   |   |   |   |\n",
      "–––––––––––––––––––––––––––––\n",
      "|   |   |   |   |   |   |   |\n",
      "–––––––––––––––––––––––––––––\n",
      "|   |   |   |   |   |   |   |\n",
      "–––––––––––––––––––––––––––––\n",
      "|   |   |   |   |   |   |   |\n",
      "–––––––––––––––––––––––––––––\n",
      "|   |   |   |   |   |   |   |\n",
      "–––––––––––––––––––––––––––––\n",
      "|   |   |   |   |   |   |   |\n",
      "–––––––––––––––––––––––––––––\n"
     ]
    },
    {
     "name": "stdin",
     "output_type": "stream",
     "text": [
      "Player 1, choose a column (0-6):  a\n"
     ]
    },
    {
     "ename": "ValueError",
     "evalue": "invalid literal for int() with base 10: 'a'",
     "output_type": "error",
     "traceback": [
      "\u001b[0;31m---------------------------------------------------------------------------\u001b[0m",
      "\u001b[0;31mValueError\u001b[0m                                Traceback (most recent call last)",
      "Cell \u001b[0;32mIn[4], line 2\u001b[0m\n\u001b[1;32m      1\u001b[0m connect4 \u001b[38;5;241m=\u001b[39m Connect4()\n\u001b[0;32m----> 2\u001b[0m connect4\u001b[38;5;241m.\u001b[39mbattle(human, negamax_agent)\n",
      "File \u001b[0;32m~/Documents/Other/Games/Connect 4/connect4.py:78\u001b[0m, in \u001b[0;36mConnect4.battle\u001b[0;34m(self, agent1, agent2, output)\u001b[0m\n\u001b[1;32m     76\u001b[0m \u001b[38;5;66;03m#             try:\u001b[39;00m\n\u001b[1;32m     77\u001b[0m             \u001b[38;5;28;01mif\u001b[39;00m \u001b[38;5;28mself\u001b[39m\u001b[38;5;241m.\u001b[39mcurrent_player \u001b[38;5;241m==\u001b[39m \u001b[38;5;241m0\u001b[39m:\n\u001b[0;32m---> 78\u001b[0m                 column \u001b[38;5;241m=\u001b[39m agent1\u001b[38;5;241m.\u001b[39mchoose_move(\u001b[38;5;28mself\u001b[39m)\n\u001b[1;32m     79\u001b[0m                 \u001b[38;5;28;01mif\u001b[39;00m output:\n\u001b[1;32m     80\u001b[0m                     \u001b[38;5;28mprint\u001b[39m(\u001b[38;5;124mf\u001b[39m\u001b[38;5;124m\"\u001b[39m\u001b[38;5;132;01m{\u001b[39;00magent1\u001b[38;5;132;01m}\u001b[39;00m\u001b[38;5;124m chooses column \u001b[39m\u001b[38;5;132;01m{\u001b[39;00mcolumn\u001b[38;5;132;01m}\u001b[39;00m\u001b[38;5;124m.\u001b[39m\u001b[38;5;124m\"\u001b[39m)\n",
      "File \u001b[0;32m~/Documents/Other/Games/Connect 4/agents/human.py:10\u001b[0m, in \u001b[0;36mHuman.choose_move\u001b[0;34m(self, game)\u001b[0m\n\u001b[1;32m      8\u001b[0m \u001b[38;5;28;01mdef\u001b[39;00m \u001b[38;5;21mchoose_move\u001b[39m(\u001b[38;5;28mself\u001b[39m, game):\n\u001b[1;32m      9\u001b[0m     message \u001b[38;5;241m=\u001b[39m \u001b[38;5;124mf\u001b[39m\u001b[38;5;124m\"\u001b[39m\u001b[38;5;124mPlayer \u001b[39m\u001b[38;5;132;01m{\u001b[39;00mgame\u001b[38;5;241m.\u001b[39mcurrent_player\u001b[38;5;241m+\u001b[39m\u001b[38;5;241m1\u001b[39m\u001b[38;5;132;01m}\u001b[39;00m\u001b[38;5;124m, choose a column (0-6): \u001b[39m\u001b[38;5;124m\"\u001b[39m\n\u001b[0;32m---> 10\u001b[0m     column \u001b[38;5;241m=\u001b[39m \u001b[38;5;28mint\u001b[39m(\u001b[38;5;28minput\u001b[39m(message))\n\u001b[1;32m     11\u001b[0m     \u001b[38;5;28;01mreturn\u001b[39;00m column\n",
      "\u001b[0;31mValueError\u001b[0m: invalid literal for int() with base 10: 'a'"
     ]
    }
   ],
   "source": [
    "connect4 = Connect4()\n",
    "connect4.battle(human, negamax_agent)"
   ]
  },
  {
   "cell_type": "code",
   "execution_count": null,
   "id": "4b593eb1",
   "metadata": {},
   "outputs": [],
   "source": []
  }
 ],
 "metadata": {
  "kernelspec": {
   "display_name": "Python 3 (ipykernel)",
   "language": "python",
   "name": "python3"
  },
  "language_info": {
   "codemirror_mode": {
    "name": "ipython",
    "version": 3
   },
   "file_extension": ".py",
   "mimetype": "text/x-python",
   "name": "python",
   "nbconvert_exporter": "python",
   "pygments_lexer": "ipython3",
   "version": "3.12.3"
  }
 },
 "nbformat": 4,
 "nbformat_minor": 5
}
